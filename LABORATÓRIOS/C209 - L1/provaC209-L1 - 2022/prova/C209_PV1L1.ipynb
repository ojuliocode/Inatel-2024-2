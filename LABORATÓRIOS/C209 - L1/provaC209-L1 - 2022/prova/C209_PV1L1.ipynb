{
 "cells": [
  {
   "cell_type": "markdown",
   "id": "678b2329",
   "metadata": {},
   "source": [
    "# Parte teórica"
   ]
  },
  {
   "cell_type": "markdown",
   "id": "336b01bb",
   "metadata": {},
   "source": [
    "Classifique as afirmações em Verdadeiro ou Falso, justifique as afirmativas falsas"
   ]
  },
  {
   "cell_type": "markdown",
   "id": "7e16efe9",
   "metadata": {},
   "source": [
    "1 - O espaço de cores RGB é amplamente utilizado pois é o mais intuitivo para seres humanos"
   ]
  },
  {
   "cell_type": "code",
   "execution_count": null,
   "id": "4c19856f",
   "metadata": {},
   "outputs": [],
   "source": []
  },
  {
   "cell_type": "markdown",
   "id": "5bb83118",
   "metadata": {},
   "source": [
    "2 - Imagens vetoriais apresentam serrilhamento quando são ampliadas"
   ]
  },
  {
   "cell_type": "code",
   "execution_count": null,
   "id": "de2319c7",
   "metadata": {},
   "outputs": [],
   "source": []
  },
  {
   "cell_type": "markdown",
   "id": "7c97428d",
   "metadata": {},
   "source": [
    "3 - A lógica XOR aplicada em uma imagem detecta os pixels que mudaram de valor"
   ]
  },
  {
   "cell_type": "code",
   "execution_count": null,
   "id": "4f6ea11e",
   "metadata": {},
   "outputs": [],
   "source": []
  },
  {
   "cell_type": "markdown",
   "id": "c574ec7d",
   "metadata": {},
   "source": [
    "4 - O código abaixo representa um circulo com 110px de altura, 128px de largura e rotacionado em 64 graus.\n",
    "\n",
    "```<circle cx='110' cy='128' r='64' fill='red'/>```"
   ]
  },
  {
   "cell_type": "code",
   "execution_count": null,
   "id": "a4cff5e7",
   "metadata": {},
   "outputs": [],
   "source": []
  },
  {
   "cell_type": "markdown",
   "id": "c45bb9dd",
   "metadata": {},
   "source": [
    "5 - Algumas imagens podem ter um quarto canal chamado Alpha que representa a opacidade do pixel"
   ]
  },
  {
   "cell_type": "code",
   "execution_count": null,
   "id": "50e3c74d",
   "metadata": {},
   "outputs": [],
   "source": []
  },
  {
   "cell_type": "markdown",
   "id": "10a0b729",
   "metadata": {},
   "source": [
    "# Parte prática"
   ]
  },
  {
   "cell_type": "markdown",
   "id": "9a30913d",
   "metadata": {},
   "source": [
    "## Material de apoio"
   ]
  },
  {
   "cell_type": "markdown",
   "id": "1b7a3dda",
   "metadata": {},
   "source": [
    "### Importações\n",
    "\n",
    "```\n",
    "import matplotlib.pyplot as plt\n",
    "import numpy as np\n",
    "from PIL import Image\n",
    "```\n",
    "\n",
    "### Manipulação de imagens\n",
    "\n",
    "```\n",
    "img = Image.open('nome.extensão')\n",
    "img = np.array(Image.open('nome.extensão'))\n",
    "img = img[:, :, :3]\n",
    "img_pil = Image.fromarray(img_np)\n",
    "img.save('nome.png')\n",
    "Image.fromarray(img).save('nome_arquivo.extensao')\n",
    "(l,c,p) = img.shape\n",
    "```\n",
    "\n",
    "### Greyscale\n",
    "\n",
    "#### Algoritmo genérico, substituir o método escolhido\n",
    "```\n",
    "img_avg = np.zeros(shape=(l, c), dtype=np.uint8)\n",
    "for i in range(l):\n",
    "    for j in range(c):\n",
    "        r = float(img_np[i, j, 0])\n",
    "        g = float(img_np[i, j, 1])\n",
    "        b = float(img_np[i, j, 2])\n",
    "        \n",
    "        img_avg[i, j] = (aplicar método)\n",
    "```\n",
    "\n",
    "#### Métodos: \n",
    "\n",
    "Lightness: $\\frac{max(R,G,B)+min(R,G,B)}{2}$\n",
    "\n",
    "Average: $\\frac{R+G+B}{3}$\n",
    "\n",
    "Luminosity: $0.2126 \\cdot R + 0.7152 \\cdot G + 0.0722 \\cdot B$\n",
    "\n",
    "### Escalonamento com nearest neighbor\n",
    "\n",
    "```\n",
    "ls, cs = l * sy, c * sx\n",
    "mario_nn = np.zeros(shape=(ls, cs, p), dtype=np.uint8)\n",
    "\n",
    "for i in range(ls):\n",
    "    for j in range(cs):\n",
    "        new_y = int(np.floor(i * (l / ls)))\n",
    "        new_x = int(np.floor(j * (c / cs)))\n",
    "        \n",
    "        mario_nn[i, j] = mario[new_y, new_x]\n",
    "```\n",
    "\n",
    "### Cisalhamento\n",
    "\n",
    "```\n",
    "img_shear = np.zeros((int(l * (1.1 + cy)), int(c * (1.1 + cx)), p), dtype=np.uint8)\n",
    "for i in range(l):\n",
    "    for j in range(c):\n",
    "        new_x = int(j + cx * i)\n",
    "        new_y = int(cy * j + i)\n",
    "        \n",
    "        img_shear[new_y, new_x] = img[i, j]\n",
    "```\n",
    "\n",
    "### Imagem grayscale para imagem binária de 3 canais\n",
    "\n",
    "``` \n",
    "bin = np.zeros(shape=(l,c,3),dtype=np.uint8)\n",
    "    \n",
    "for i in range(l):\n",
    "    for j in range(c):\n",
    "        if img[i,j] > thresh: \n",
    "            bin[i,j,:] = 255 \n",
    "        else: \n",
    "            bin[i,j,:] = 0\n",
    "\n",
    "```"
   ]
  },
  {
   "cell_type": "markdown",
   "id": "7c2ee26a",
   "metadata": {},
   "source": [
    "**1 -** Importe as bibliotecas que serão usadas"
   ]
  },
  {
   "cell_type": "code",
   "execution_count": null,
   "id": "fafe6632",
   "metadata": {},
   "outputs": [],
   "source": []
  },
  {
   "cell_type": "markdown",
   "id": "8a8a08cb",
   "metadata": {},
   "source": [
    "**2 -** Abra as imagens horse.jpg e landscape.png, retire o canal alpha se necessário, exiba essas imagens e mostre o formato de cada uma"
   ]
  },
  {
   "cell_type": "code",
   "execution_count": null,
   "id": "af0be99d",
   "metadata": {},
   "outputs": [],
   "source": []
  },
  {
   "cell_type": "markdown",
   "id": "c9efc339",
   "metadata": {},
   "source": [
    "**3 -** Crie uma função que realize o escalonamento de uma imagem que receba como parâmetro uma **imagem, sx e sy**, sendo sx e sy os fatores de escalonamento e **retorne a imagem escalonada**, em seguida aplique o escalonamento na imagem \"landscape\" para que fique do mesmo tamanho da imagem \"horse\". Exiba o resultado."
   ]
  },
  {
   "cell_type": "code",
   "execution_count": null,
   "id": "ccead925",
   "metadata": {},
   "outputs": [],
   "source": []
  },
  {
   "cell_type": "markdown",
   "id": "e0f4969b",
   "metadata": {},
   "source": [
    "**4 -** Crie uma função para aplicar um método grayscale de sua escolha, que receba como **parâmetro uma imagem e retorne uma imagem em greyscale**. Aplique essa função na **imagem \"horse\"** e mostre o resultado."
   ]
  },
  {
   "cell_type": "code",
   "execution_count": null,
   "id": "b8bda240",
   "metadata": {},
   "outputs": [],
   "source": []
  },
  {
   "cell_type": "markdown",
   "id": "920b8ecd",
   "metadata": {},
   "source": [
    "**5 -** Crie uma função para transformar uma imagem grayscale em uma imagem binária, que receba como **parâmetro uma imagem e o threshhold** para realizar a operação e retorne uma imagem binária. Aplique essa função na imagem resultante da **etapa anterior com threshold de valor 135** e mostre o resultado."
   ]
  },
  {
   "cell_type": "code",
   "execution_count": null,
   "id": "02b5e160",
   "metadata": {},
   "outputs": [],
   "source": []
  },
  {
   "cell_type": "markdown",
   "id": "97bfc606",
   "metadata": {},
   "source": [
    "**6 -** Realize a operação NOT com a imagem da **etapa anterior** e mostre o resultado"
   ]
  },
  {
   "cell_type": "code",
   "execution_count": null,
   "id": "509c80a0",
   "metadata": {},
   "outputs": [],
   "source": []
  },
  {
   "cell_type": "markdown",
   "id": "eb65cb35",
   "metadata": {},
   "source": [
    "**7 -** Aplique a imagem da **questão anterior como uma máscara (Lógica E) com a imagem resultante do escalonamento na questão 3**. Mostre o resultado"
   ]
  },
  {
   "cell_type": "code",
   "execution_count": null,
   "id": "41696632",
   "metadata": {},
   "outputs": [],
   "source": []
  },
  {
   "cell_type": "markdown",
   "id": "09a3b69a",
   "metadata": {},
   "source": [
    "**8 -** Crie uma função para aplicar o cisalhamento em cima de uma imagem, que **recebe como parâmetro uma imagem, cx e cy**, sendo cx e cy os coeficientes do cisalhamento e retorne a imagem com o efeito aplicado. \n",
    "**Aplique a função na imagem anterior com cx=0.3 e cy=0.2**. Mostre o resultado."
   ]
  },
  {
   "cell_type": "code",
   "execution_count": null,
   "id": "186371d0",
   "metadata": {},
   "outputs": [],
   "source": []
  },
  {
   "cell_type": "markdown",
   "id": "37ceb5a0",
   "metadata": {},
   "source": [
    "**9 -** Salve a imagem da questão anterior no disco com o nome \"resultado.jpg\""
   ]
  },
  {
   "cell_type": "code",
   "execution_count": null,
   "id": "925fc528",
   "metadata": {},
   "outputs": [],
   "source": []
  }
 ],
 "metadata": {
  "kernelspec": {
   "display_name": "Python 3 (ipykernel)",
   "language": "python",
   "name": "python3"
  },
  "language_info": {
   "codemirror_mode": {
    "name": "ipython",
    "version": 3
   },
   "file_extension": ".py",
   "mimetype": "text/x-python",
   "name": "python",
   "nbconvert_exporter": "python",
   "pygments_lexer": "ipython3",
   "version": "3.9.5"
  }
 },
 "nbformat": 4,
 "nbformat_minor": 5
}
