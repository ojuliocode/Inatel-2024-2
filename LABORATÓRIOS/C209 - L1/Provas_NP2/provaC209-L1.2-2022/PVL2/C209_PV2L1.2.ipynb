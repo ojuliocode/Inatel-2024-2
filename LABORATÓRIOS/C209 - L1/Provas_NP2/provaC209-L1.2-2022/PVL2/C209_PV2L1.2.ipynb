{
 "cells": [
  {
   "cell_type": "markdown",
   "id": "1bb0ff8b",
   "metadata": {},
   "source": [
    "# Instruções da prova\n",
    "\n",
    "- O único material que poderá ser consultado é este notebook, consultas à outros materiais ou à internet será considerado cola levando à nota zero na prova\n",
    "- Renomear o notebook para NOME_SOBRENOME_MATRICULA\n",
    "- Enviar o arquivo .ipynb na tarefa do TEAMS."
   ]
  },
  {
   "cell_type": "markdown",
   "id": "b6c02e28",
   "metadata": {},
   "source": [
    "# Parte teórica"
   ]
  },
  {
   "cell_type": "markdown",
   "id": "336b01bb",
   "metadata": {},
   "source": [
    "Classifique as afirmações em Verdadeiro ou Falso, justifique as afirmativas falsas"
   ]
  },
  {
   "cell_type": "markdown",
   "id": "7e16efe9",
   "metadata": {},
   "source": [
    "1 - Um vídeo tem uma taxa de atualização de 28 fps. Se a função fl_image(func) for\n",
    "aplicada num intervalo de 3 a 5 segundos, pode-se afirmar que a função func foi\n",
    "aplicada em 84 quadros."
   ]
  },
  {
   "cell_type": "code",
   "execution_count": null,
   "id": "4c19856f",
   "metadata": {},
   "outputs": [],
   "source": []
  },
  {
   "cell_type": "markdown",
   "id": "5bb83118",
   "metadata": {},
   "source": [
    "2 - O formato GIF surgiu como uma evolução do formado PNG, uma das suas vantagens é a possibilidade de representar muito mais cores."
   ]
  },
  {
   "cell_type": "code",
   "execution_count": null,
   "id": "de2319c7",
   "metadata": {},
   "outputs": [],
   "source": []
  },
  {
   "cell_type": "markdown",
   "id": "7c97428d",
   "metadata": {},
   "source": [
    "3 - A compressão JPEG consegue bons resultados sem perda de qualidade pois retira da imagen informações muito perceptíveis ao olho humano."
   ]
  },
  {
   "cell_type": "code",
   "execution_count": null,
   "id": "4f6ea11e",
   "metadata": {},
   "outputs": [],
   "source": []
  },
  {
   "cell_type": "markdown",
   "id": "c574ec7d",
   "metadata": {},
   "source": [
    "4 - Aquivos de áudio com dois canais são chamados de stereos"
   ]
  },
  {
   "cell_type": "code",
   "execution_count": null,
   "id": "a4cff5e7",
   "metadata": {},
   "outputs": [],
   "source": []
  },
  {
   "cell_type": "markdown",
   "id": "c45bb9dd",
   "metadata": {},
   "source": [
    "5 - A compressão do tipo Diabolica é responsável por deixar regiões de uma imagem homogêneas. Isso se deve ao fato de que esta compressão repete o valor do pixel de menor distância em blocos quadrados"
   ]
  },
  {
   "cell_type": "code",
   "execution_count": null,
   "id": "50e3c74d",
   "metadata": {},
   "outputs": [],
   "source": []
  },
  {
   "cell_type": "markdown",
   "id": "10a0b729",
   "metadata": {},
   "source": [
    "# Parte prática"
   ]
  },
  {
   "cell_type": "markdown",
   "id": "9a30913d",
   "metadata": {},
   "source": [
    "## Material de apoio"
   ]
  },
  {
   "cell_type": "markdown",
   "id": "1b7a3dda",
   "metadata": {},
   "source": [
    "### Importações\n",
    "\n",
    "```\n",
    "import moviepy.editor as mpe\n",
    "import numpy as np\n",
    "import matplotlib.pyplot as plt\n",
    "```\n",
    "\n",
    "### Histograma\n",
    "```\n",
    "def histogram_gray(img):\n",
    "    (l, c) = img.shape\n",
    "    # Histograma com 1 linha e 256 colunas, preenchido com 0.\n",
    "    histogram = np.zeros(256, dtype=np.int32)\n",
    "\n",
    "    for i in range(l):\n",
    "        for j in range(c):\n",
    "            # Normalizar intensidade do pixel \n",
    "            intensity = img[i, j]\n",
    "            # Incrementar de 1 a quantidade de pixels no histograma,\n",
    "            # utilizando a intensidade como índice.\n",
    "            histogram[intensity] += 1\n",
    "            \n",
    "    return histogram\n",
    "\n",
    "def show_histogram(img):\n",
    "    histogram_r = histogram_gray(img[:, :, 0])\n",
    "    histogram_g = histogram_gray(img[:, :, 1])\n",
    "    histogram_b = histogram_gray(img[:, :, 2])\n",
    "    \n",
    "    plt.figure(figsize=(16, 16))\n",
    "    plt.subplot(2, 1, 1)\n",
    "    plt.bar(range(256), histogram_r, color='red')\n",
    "    plt.bar(range(256), histogram_g, color='green')\n",
    "    plt.bar(range(256), histogram_b, color='blue')\n",
    "\n",
    "```\n",
    "\n",
    "### Manipulação de imagens\n",
    "\n",
    "```\n",
    "(l,c,p) = img.shape\n",
    "plt.imshow(imagem)\n",
    "```\n",
    "\n",
    "### Forçando uma imagem de uma página para 3 páginas\n",
    "```\n",
    "  imagem_3p = np.zeros(shape=(l,c,p),dtype=np.uint8)\n",
    "  imagem_3p[:,:, 0] = frame_1p\n",
    "  imagem_3p[:,:, 1] = frame_1p\n",
    "  imagem_3p[:,:, 2] = frame_1p\n",
    "```\n",
    "\n",
    "### Detecção de bordas\n",
    "```\n",
    "    imagem_grey = np.average(frame, axis=2).astype(np.float64)\n",
    "   \n",
    "    abs_tg_c = np.abs(np.diff(imagem_grey.astype(np.float64), axis=0, append=255))\n",
    "    abs_tg_l = np.abs(np.diff(imagem_grey.astype(np.float64), axis=1, append=255))\n",
    "    abs_tg = np.sqrt(abs_tg_c ** 2 + abs_tg_l ** 2)\n",
    "\n",
    "    imagem_border = np.zeros(shape=(l, c), dtype=np.uint8)\n",
    "    imagem_border[abs_tg > threshold] = 255\n",
    "```\n",
    "\n",
    "### Manipulação de vídeo\n",
    "```\n",
    "video = mpe.VideoFileClip(\"video.mp4\")\n",
    "frame = video.get_frame(2 / video.fps)\n",
    "frame = video.get_frame(2)\n",
    "video.ipython_display(width=480)\n",
    "video_modificado = video.fl_image(func_modificar)\n",
    "subclip = video.subclip(0,2)\n",
    "subclip = video.subclip(3)\n",
    "parts = mpe.concatenate_videoclips([part1, part])\n",
    "video.write_videofile('video.mp4')\n",
    "```\n",
    "\n",
    "### Conversão CM|Y\n",
    "```\n",
    "img_cmy = 255 - img_rgb\n",
    "```\n",
    "\n",
    "### Reflexão utilizando numpy\n",
    "```\n",
    "    img_refl = np.zeros(shape=imagem.shape, dtype=np.uint8)\n",
    "    img_refl[::1, ::-1] = imagem\n",
    "```\n"
   ]
  },
  {
   "cell_type": "markdown",
   "id": "7c2ee26a",
   "metadata": {},
   "source": [
    "**1 -** Importe as bibliotecas que serão usadas"
   ]
  },
  {
   "cell_type": "code",
   "execution_count": null,
   "id": "fafe6632",
   "metadata": {},
   "outputs": [],
   "source": []
  },
  {
   "cell_type": "markdown",
   "id": "d65609e8",
   "metadata": {},
   "source": [
    "**2 -** Abra o vídeo \"boydancing.mp4\" e salve-o em uma variável, pegue o **frame do indice 2** e o exiba."
   ]
  },
  {
   "cell_type": "code",
   "execution_count": null,
   "id": "94a8fa8e",
   "metadata": {},
   "outputs": [],
   "source": []
  },
  {
   "cell_type": "markdown",
   "id": "610aafc5",
   "metadata": {},
   "source": [
    "**3 -** Exiba o histograma RGB do frame selecionado."
   ]
  },
  {
   "cell_type": "code",
   "execution_count": null,
   "id": "cdd480d1",
   "metadata": {},
   "outputs": [],
   "source": []
  },
  {
   "cell_type": "markdown",
   "id": "966acaa1",
   "metadata": {},
   "source": [
    "**4 -** Crie uma função que receba um frame e retorne um frame refletido em x e y, aplique essa função no vídeo e observe o resultado. "
   ]
  },
  {
   "cell_type": "code",
   "execution_count": null,
   "id": "2cd734c7",
   "metadata": {},
   "outputs": [],
   "source": []
  },
  {
   "cell_type": "markdown",
   "id": "495a628a",
   "metadata": {},
   "source": [
    "**5 -** Crie uma função que receba um frame e realize a detecção de bordas nele com **treshold de valor 10**, aplique essa função no vídeo e observe o resultado. **Sua função deve retornar um frame com 3 páginas para evitar problemas**."
   ]
  },
  {
   "cell_type": "code",
   "execution_count": null,
   "id": "bd5f7245",
   "metadata": {},
   "outputs": [],
   "source": []
  },
  {
   "cell_type": "markdown",
   "id": "903428bf",
   "metadata": {},
   "source": [
    "**6 -** Crie uma função que receba um frame e retorne esse frame convertido para o espaço de cor CMY"
   ]
  },
  {
   "cell_type": "code",
   "execution_count": null,
   "id": "5c1a7a2f",
   "metadata": {},
   "outputs": [],
   "source": []
  },
  {
   "cell_type": "markdown",
   "id": "57366dc3",
   "metadata": {},
   "source": [
    "**7 -** Separe o vídeo original em 3 subclips:\n",
    "- Segundos 0 ao 2: Aplicar conversão para cmy\n",
    "- Segundos 2 ao 4: Aplicar reflexão no eixo x e y\n",
    "- Segundos 4 em diante: Aplicar detecção de borda\n",
    "\n",
    "**Una esses clips em um único vídeo e exiba o resultado.**"
   ]
  },
  {
   "cell_type": "code",
   "execution_count": null,
   "id": "7b0faf09",
   "metadata": {},
   "outputs": [],
   "source": []
  },
  {
   "cell_type": "markdown",
   "id": "421b2c9c",
   "metadata": {},
   "source": [
    "**8 -** Salve o vídeo resultante da última etapa com o nome \"resultado.mp4\"."
   ]
  },
  {
   "cell_type": "code",
   "execution_count": null,
   "id": "f617a73f",
   "metadata": {},
   "outputs": [],
   "source": []
  }
 ],
 "metadata": {
  "kernelspec": {
   "display_name": "Python 3 (ipykernel)",
   "language": "python",
   "name": "python3"
  },
  "language_info": {
   "codemirror_mode": {
    "name": "ipython",
    "version": 3
   },
   "file_extension": ".py",
   "mimetype": "text/x-python",
   "name": "python",
   "nbconvert_exporter": "python",
   "pygments_lexer": "ipython3",
   "version": "3.9.5"
  }
 },
 "nbformat": 4,
 "nbformat_minor": 5
}
