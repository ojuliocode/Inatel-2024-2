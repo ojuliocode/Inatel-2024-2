{
 "cells": [
  {
   "cell_type": "markdown",
   "id": "27961be4",
   "metadata": {},
   "source": [
    "# Instruções da prova\n",
    "\n",
    "- O único material que poderá ser consultado é este notebook, consultas à outros materiais ou à internet será considerado cola\n",
    "- Renomear o notebook para C209-PV1.1-NOME_SOBRENOME_MATRICULA\n",
    "- Enviar no teams a pasta com todas as mídias zipada com o nome \"NOME_SOBRENOME_MATRICULA.zip\""
   ]
  },
  {
   "cell_type": "markdown",
   "id": "be9a652a",
   "metadata": {},
   "source": [
    "# Parte Teórica"
   ]
  },
  {
   "cell_type": "markdown",
   "id": "2e4c4853",
   "metadata": {},
   "source": [
    "Classifique as afirmações em Verdadeiro ou Falso, justifique as afirmativas falsas, escreva suas respostas nos campos disponíveis com um '#\" na frente de seu texto"
   ]
  },
  {
   "cell_type": "markdown",
   "id": "c2b009e0",
   "metadata": {},
   "source": [
    "1 - Imagens negativas são resultantes da operação \"E\" entre duas imagens"
   ]
  },
  {
   "cell_type": "code",
   "execution_count": null,
   "id": "ba13f5a7",
   "metadata": {},
   "outputs": [],
   "source": []
  },
  {
   "cell_type": "markdown",
   "id": "e58fb28a",
   "metadata": {},
   "source": [
    "2 - A conversão entre RGB e CMY é simples pois tratam-se de espaços de cores complementares"
   ]
  },
  {
   "cell_type": "code",
   "execution_count": null,
   "id": "0e165b33",
   "metadata": {},
   "outputs": [],
   "source": []
  },
  {
   "cell_type": "markdown",
   "id": "cef8d218",
   "metadata": {},
   "source": [
    "3 - O código abaixo representa um retângulo com o centro na posição (128,190), altura de 120px e largura de 64px:\n",
    "    \n",
    "    \"<rect x=\"128\" y=\"190\" width=\"64\" height=\"120\" fill=\"black\"/>\""
   ]
  },
  {
   "cell_type": "code",
   "execution_count": null,
   "id": "b2219cd8",
   "metadata": {},
   "outputs": [],
   "source": []
  },
  {
   "cell_type": "markdown",
   "id": "46cd137d",
   "metadata": {},
   "source": [
    "4 - Imagens em grayscale possuem 3 páginas de cor porém todas estão em escala de cinza"
   ]
  },
  {
   "cell_type": "code",
   "execution_count": null,
   "id": "1c49bed1",
   "metadata": {},
   "outputs": [],
   "source": []
  },
  {
   "cell_type": "markdown",
   "id": "b86120e3",
   "metadata": {},
   "source": [
    "5 - Operações geométricas são aquelas que consistem na mudança espacial de pixels"
   ]
  },
  {
   "cell_type": "code",
   "execution_count": null,
   "id": "217c75a8",
   "metadata": {},
   "outputs": [],
   "source": []
  },
  {
   "cell_type": "markdown",
   "id": "aa939a82",
   "metadata": {},
   "source": [
    "# Parte Prática"
   ]
  },
  {
   "cell_type": "markdown",
   "id": "a03e5aa2",
   "metadata": {},
   "source": [
    "### Material de apoio"
   ]
  },
  {
   "cell_type": "markdown",
   "id": "626c6f08",
   "metadata": {},
   "source": [
    "### Importações\n",
    "\n",
    "```\n",
    "import matplotlib.pyplot as plt\n",
    "import numpy as np\n",
    "from PIL import Image\n",
    "```\n",
    "\n",
    "### Manipulação de imagens\n",
    "\n",
    "```\n",
    "img = Image.open('nome.extensão')\n",
    "img = np.array(Image.open('nome.extensão'))\n",
    "img = img[:, :, :3]\n",
    "img_pil = Image.fromarray(img_np)\n",
    "img.save('nome.png')\n",
    "Image.fromarray(img).save('nome_arquivo.extensao')\n",
    "(l,c,p) = img.shape\n",
    "```\n",
    "\n",
    "### Exibição de imagens\n",
    "\n",
    "```\n",
    "plt.figure(figsize=(8, 8))\n",
    "plt.subplot(2, 2, 1)\n",
    "plt.imshow(img1)\n",
    "plt.subplot(2, 2, 2)\n",
    "plt.imshow(img2)\n",
    "```\n",
    "\n",
    "### Reflexão \n",
    "\n",
    "\n",
    "#### Alt1\n",
    "```\n",
    "mario_refl = np.zeros(shape=mario.shape, dtype=np.uint8)\n",
    "for i in range(l):\n",
    "    for j in range(c):\n",
    "        new_x = -j\n",
    "        new_y = i\n",
    "        mario_refl[new_y, new_x] = mario[i, j]\n",
    "```\n",
    "\n",
    "#### Alt2\n",
    "```\n",
    "mario_refl = np.zeros(shape=mario.shape, dtype=np.uint8)\n",
    "mario_refl[::1, ::-1] = mario\n",
    "```\n",
    "\n",
    "### Greyscale\n",
    "\n",
    "#### Algoritmo genérico, substituir o método escolhido\n",
    "```\n",
    "img_avg = np.zeros(shape=(l, c), dtype=np.uint8)\n",
    "for i in range(l):\n",
    "    for j in range(c):\n",
    "        r = float(img_np[i, j, 0])\n",
    "        g = float(img_np[i, j, 1])\n",
    "        b = float(img_np[i, j, 2])\n",
    "        \n",
    "        img_avg[i, j] = (aplicar método)\n",
    "```\n",
    "\n",
    "#### Métodos: \n",
    "\n",
    "Lightness: $\\frac{max(R,G,B)+min(R,G,B)}{2}$\n",
    "\n",
    "Average: $\\frac{R+G+B}{3}$\n",
    "\n",
    "Luminosity: $0.2126 \\cdot R + 0.7152 \\cdot G + 0.0722 \\cdot B$\n",
    "\n",
    "### Escalonamento com nearest neighbor\n",
    "\n",
    "```\n",
    "ls, cs = l * sy, c * sx\n",
    "mario_nn = np.zeros(shape=(ls, cs, p), dtype=np.uint8)\n",
    "\n",
    "for i in range(ls):\n",
    "    for j in range(cs):\n",
    "        new_y = int(np.floor(i * (l / ls)))\n",
    "        new_x = int(np.floor(j * (c / cs)))\n",
    "        \n",
    "        mario_nn[i, j] = mario[new_y, new_x]\n",
    "```\n",
    "\n",
    "### Rotação com interpolação\n",
    "\n",
    "```\n",
    "alpha = np.pi / 6 # 30°\n",
    "\n",
    "ls, cs = int(l * np.sqrt(2)), int(c * np.sqrt(2))\n",
    "mario_rot = np.zeros((ls, cs, p), dtype=np.uint8)\n",
    "for i in range(ls):\n",
    "    for j in range(cs):\n",
    "        cx = j - (ls / 2)\n",
    "        cy = i - (cs / 2)\n",
    "        \n",
    "        new_x = int( cx * np.cos(alpha) + cy * np.sin(alpha) + l / 2)\n",
    "        new_y = int(-cx * np.sin(alpha) + cy * np.cos(alpha) + c / 2)\n",
    "        \n",
    "        if 0 <= new_x < c and 0 <= new_y < l:\n",
    "            mario_rot[i, j] = mario[new_y, new_x]\n",
    "```"
   ]
  },
  {
   "cell_type": "markdown",
   "id": "9f17a71a",
   "metadata": {},
   "source": [
    "**1 -** Importe as bibliotecas que serão usadas"
   ]
  },
  {
   "cell_type": "code",
   "execution_count": null,
   "id": "627b84e3",
   "metadata": {},
   "outputs": [],
   "source": []
  },
  {
   "cell_type": "markdown",
   "id": "3e733663",
   "metadata": {},
   "source": [
    "**2 -** Abra as imagens mustache.jpg e shrek.png, retire o canal alpha (se necessário), exiba essas imagens e mostre o formato de cada uma"
   ]
  },
  {
   "cell_type": "code",
   "execution_count": null,
   "id": "9e790101",
   "metadata": {},
   "outputs": [],
   "source": []
  },
  {
   "cell_type": "markdown",
   "id": "2922d955",
   "metadata": {},
   "source": [
    "**3 -** Crie uma função que realize a reflexão no eixo x. Essa função deve receber uma **imagem como parâmetro** e **retornar uma imagem refletida no eixo x**. Aplique essa função na imagem \"mustache\" aberta na questão anterior e mostre o resultado."
   ]
  },
  {
   "cell_type": "code",
   "execution_count": null,
   "id": "5b945e06",
   "metadata": {},
   "outputs": [],
   "source": []
  },
  {
   "cell_type": "markdown",
   "id": "77b589ef",
   "metadata": {},
   "source": [
    "**4 -** Realize a operação lógica NOT com a imagem da questão anterior e mostre o resultado"
   ]
  },
  {
   "cell_type": "code",
   "execution_count": null,
   "id": "886e7a2e",
   "metadata": {},
   "outputs": [],
   "source": []
  },
  {
   "cell_type": "markdown",
   "id": "91e00b84",
   "metadata": {},
   "source": [
    "**5 -** Crie uma função que realize o escalonamento de uma imagem que receba como parâmetro uma **imagem, sx e sy**, sendo sx e sy os fatores de escalonamento e **retorne a imagem escalonada**, em seguida aplique o escalonamento na imagem \"shrek\" para que fique do mesmo tamanho da imagem da questão anterior. Exiba o resultado."
   ]
  },
  {
   "cell_type": "code",
   "execution_count": null,
   "id": "31e38ed1",
   "metadata": {},
   "outputs": [],
   "source": []
  },
  {
   "cell_type": "markdown",
   "id": "de6e0ba8",
   "metadata": {},
   "source": [
    "**6 -** Realize o mascaramento (lógica E) entre as imagens das questões 4 e 5, exiba o resultado. "
   ]
  },
  {
   "cell_type": "code",
   "execution_count": null,
   "id": "2947fc8c",
   "metadata": {},
   "outputs": [],
   "source": []
  },
  {
   "cell_type": "markdown",
   "id": "03ccf7fd",
   "metadata": {},
   "source": [
    "**7 -** Crie uma função para aplicar um método grayscale de sua escolha, que receba como parâmetro uma imagem e retorne uma imagem em greyscale. Aplique essa função na imagem resultante da questão anterior e mostre o resultado."
   ]
  },
  {
   "cell_type": "code",
   "execution_count": null,
   "id": "34058069",
   "metadata": {},
   "outputs": [],
   "source": []
  },
  {
   "cell_type": "markdown",
   "id": "d43be7d5",
   "metadata": {},
   "source": [
    "**8 -** Crie uma função que realize uma rotação com interpolação, a função deve receber como parâmetro **uma imagem e o ângulo alpha com que deve ser rotacionada** e **retornar uma imagem rotacionada com o angulo alpha**. Modifique o algoritmo de rotação para que funcione se necessário. Aplique a função na imagem resultante da questão anterior **com ângulo de 60°** e mostre o resultado."
   ]
  },
  {
   "cell_type": "code",
   "execution_count": null,
   "id": "ec1269e3",
   "metadata": {
    "scrolled": true
   },
   "outputs": [],
   "source": []
  },
  {
   "cell_type": "markdown",
   "id": "0c50b151",
   "metadata": {},
   "source": [
    "**9 -** Salve a imagem da questão anterior no disco com o nome \"resultado.jpg\""
   ]
  },
  {
   "cell_type": "code",
   "execution_count": null,
   "id": "680f3de2",
   "metadata": {},
   "outputs": [],
   "source": []
  }
 ],
 "metadata": {
  "kernelspec": {
   "display_name": "Python 3 (ipykernel)",
   "language": "python",
   "name": "python3"
  },
  "language_info": {
   "codemirror_mode": {
    "name": "ipython",
    "version": 3
   },
   "file_extension": ".py",
   "mimetype": "text/x-python",
   "name": "python",
   "nbconvert_exporter": "python",
   "pygments_lexer": "ipython3",
   "version": "3.9.5"
  }
 },
 "nbformat": 4,
 "nbformat_minor": 5
}
